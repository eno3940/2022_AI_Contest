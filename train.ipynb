{
  "nbformat": 4,
  "nbformat_minor": 0,
  "metadata": {
    "colab": {
      "name": "train.ipynb",
      "provenance": []
    },
    "kernelspec": {
      "name": "python3",
      "display_name": "Python 3"
    },
    "language_info": {
      "name": "python"
    },
    "accelerator": "GPU",
    "gpuClass": "standard"
  },
  "cells": [
    {
      "cell_type": "code",
      "source": [
        "%cd /content/drive/MyDrive/template"
      ],
      "metadata": {
        "id": "DNQvYPrRZFiC",
        "colab": {
          "base_uri": "https://localhost:8080/"
        },
        "outputId": "0ca56088-0095-40a1-d636-ed353cf91257"
      },
      "execution_count": null,
      "outputs": [
        {
          "output_type": "stream",
          "name": "stdout",
          "text": [
            "/content/drive/MyDrive/template\n"
          ]
        }
      ]
    },
    {
      "cell_type": "code",
      "source": [
        "%pwd"
      ],
      "metadata": {
        "colab": {
          "base_uri": "https://localhost:8080/",
          "height": 37
        },
        "id": "CgPN2F7Uj_mt",
        "outputId": "fc701afe-2af9-4850-d138-c8fc99335c56"
      },
      "execution_count": null,
      "outputs": [
        {
          "output_type": "execute_result",
          "data": {
            "text/plain": [
              "'/content'"
            ],
            "application/vnd.google.colaboratory.intrinsic+json": {
              "type": "string"
            }
          },
          "metadata": {},
          "execution_count": 1
        }
      ]
    },
    {
      "cell_type": "code",
      "source": [
        "!python train.ipynb"
      ],
      "metadata": {
        "colab": {
          "base_uri": "https://localhost:8080/"
        },
        "id": "saG_gxJDpK-X",
        "outputId": "cd47d088-ed8c-4ef8-853f-fc87a701f630"
      },
      "execution_count": null,
      "outputs": [
        {
          "output_type": "stream",
          "name": "stdout",
          "text": [
            "Traceback (most recent call last):\n",
            "  File \"/content/drive/MyDrive/template/train.ipynb\", line 1, in <module>\n",
            "    {\"nbformat\":4,\"nbformat_minor\":0,\"metadata\":{\"colab\":{\"name\":\"train.ipynb\",\"provenance\":[],\"mount_file_id\":\"1VP3203moc0kDNHgdf6gloch_AUm5oVTy\",\"authorship_tag\":\"ABX9TyNYtp0rGvRRhlMqHdG0m/OA\"},\"kernelspec\":{\"name\":\"python3\",\"display_name\":\"Python 3\"},\"language_info\":{\"name\":\"python\"},\"accelerator\":\"GPU\",\"gpuClass\":\"standard\"},\"cells\":[{\"cell_type\":\"code\",\"source\":[\"%cd /content/drive/MyDrive/template\"],\"metadata\":{\"id\":\"DNQvYPrRZFiC\",\"colab\":{\"base_uri\":\"https://localhost:8080/\"},\"executionInfo\":{\"status\":\"ok\",\"timestamp\":1657214064134,\"user_tz\":-540,\"elapsed\":508,\"user\":{\"displayName\":\"roombi choi\",\"userId\":\"13120785569977849883\"}},\"outputId\":\"0ca56088-0095-40a1-d636-ed353cf91257\"},\"execution_count\":null,\"outputs\":[{\"output_type\":\"stream\",\"name\":\"stdout\",\"text\":[\"/content/drive/MyDrive/template\\n\"]}]},{\"cell_type\":\"code\",\"source\":[\"%pwd\"],\"metadata\":{\"colab\":{\"base_uri\":\"https://localhost:8080/\",\"height\":37},\"id\":\"CgPN2F7Uj_mt\",\"executionInfo\":{\"status\":\"ok\",\"timestamp\":1657214061270,\"user_tz\":-540,\"elapsed\":3,\"user\":{\"displayName\":\"roombi choi\",\"userId\":\"13120785569977849883\"}},\"outputId\":\"fc701afe-2af9-4850-d138-c8fc99335c56\"},\"execution_count\":null,\"outputs\":[{\"output_type\":\"execute_result\",\"data\":{\"text/plain\":[\"'/content'\"],\"application/vnd.google.colaboratory.intrinsic+json\":{\"type\":\"string\"}},\"metadata\":{},\"execution_count\":1}]},{\"cell_type\":\"code\",\"source\":[\"!python3 --version\"],\"metadata\":{\"colab\":{\"base_uri\":\"https://localhost:8080/\"},\"id\":\"saG_gxJDpK-X\",\"executionInfo\":{\"status\":\"ok\",\"timestamp\":1657215105800,\"user_tz\":-540,\"elapsed\":603,\"user\":{\"displayName\":\"roombi choi\",\"userId\":\"13120785569977849883\"}},\"outputId\":\"d5d72c2c-632a-4285-a259-5f637d9bc25f\"},\"execution_count\":12,\"outputs\":[{\"output_type\":\"stream\",\"name\":\"stdout\",\"text\":[\"Python 3.9.13\\n\"]}]},{\"cell_type\":\"code\",\"source\":[\"import sys\\n\",\"\\n\",\"print(sys.version)\"],\"metadata\":{\"colab\":{\"base_uri\":\"https://localhost:8080/\"},\"id\":\"7Hn3KROZnIH-\",\"executionInfo\":{\"status\":\"ok\",\"timestamp\":1657214468713,\"user_tz\":-540,\"elapsed\":4,\"user\":{\"displayName\":\"roombi choi\",\"userId\":\"13120785569977849883\"}},\"outputId\":\"c22d5bbb-b488-4f62-c25d-71355dad9d64\"},\"execution_count\":7,\"outputs\":[{\"output_type\":\"stream\",\"name\":\"stdout\",\"text\":[\"3.7.13 (default, Apr 24 2022, 01:04:09) \\n\",\"[GCC 7.5.0]\\n\"]}]},{\"cell_type\":\"code\",\"source\":[\"import sys\\n\",\"\\n\",\"print(sys.executable)\"],\"metadata\":{\"colab\":{\"base_uri\":\"https://localhost:8080/\"},\"id\":\"aHEt9NYMsjP5\",\"executionInfo\":{\"status\":\"ok\",\"timestamp\":1657214791236,\"user_tz\":-540,\"elapsed\":3,\"user\":{\"displayName\":\"roombi choi\",\"userId\":\"13120785569977849883\"}},\"outputId\":\"db61014a-0541-41ac-d980-11b7cfc4fd87\"},\"execution_count\":10,\"outputs\":[{\"output_type\":\"stream\",\"name\":\"stdout\",\"text\":[\"/usr/bin/python3\\n\"]}]},{\"cell_type\":\"code\",\"execution_count\":null,\"metadata\":{\"colab\":{\"base_uri\":\"https://localhost:8080/\",\"height\":351},\"id\":\"uAAj9heFybr8\",\"executionInfo\":{\"status\":\"error\",\"timestamp\":1657214169460,\"user_tz\":-540,\"elapsed\":2407,\"user\":{\"displayName\":\"roombi choi\",\"userId\":\"13120785569977849883\"}},\"outputId\":\"657581fa-3f5e-4265-a48c-f0bdd3fbecaa\",\"collapsed\":true},\"outputs\":[{\"output_type\":\"error\",\"ename\":\"AttributeError\",\"evalue\":\"ignored\",\"traceback\":[\"\\u001b[0;31m---------------------------------------------------------------------------\\u001b[0m\",\"\\u001b[0;31mAttributeError\\u001b[0m                            Traceback (most recent call last)\",\"\\u001b[0;32m<ipython-input-5-e2a52f40b134>\\u001b[0m in \\u001b[0;36m<module>\\u001b[0;34m()\\u001b[0m\\n\\u001b[1;32m     28\\u001b[0m \\u001b[0;31m# Load config\\u001b[0m\\u001b[0;34m\\u001b[0m\\u001b[0;34m\\u001b[0m\\u001b[0;34m\\u001b[0m\\u001b[0m\\n\\u001b[1;32m     29\\u001b[0m \\u001b[0mconfig_path\\u001b[0m \\u001b[0;34m=\\u001b[0m \\u001b[0mos\\u001b[0m\\u001b[0;34m.\\u001b[0m\\u001b[0mpath\\u001b[0m\\u001b[0;34m.\\u001b[0m\\u001b[0mjoin\\u001b[0m\\u001b[0;34m(\\u001b[0m\\u001b[0mPROJECT_DIR\\u001b[0m\\u001b[0;34m,\\u001b[0m \\u001b[0;34m'config'\\u001b[0m\\u001b[0;34m,\\u001b[0m \\u001b[0;34m'train_config.yaml'\\u001b[0m\\u001b[0;34m)\\u001b[0m\\u001b[0;34m\\u001b[0m\\u001b[0;34m\\u001b[0m\\u001b[0m\\n\\u001b[0;32m---> 30\\u001b[0;31m \\u001b[0mconfig\\u001b[0m \\u001b[0;34m=\\u001b[0m \\u001b[0mload_yaml\\u001b[0m\\u001b[0;34m(\\u001b[0m\\u001b[0mconfig_path\\u001b[0m\\u001b[0;34m)\\u001b[0m\\u001b[0;34m\\u001b[0m\\u001b[0;34m\\u001b[0m\\u001b[0m\\n\\u001b[0m\\u001b[1;32m     31\\u001b[0m \\u001b[0;34m\\u001b[0m\\u001b[0m\\n\\u001b[1;32m     32\\u001b[0m \\u001b[0;31m# Train Serial\\u001b[0m\\u001b[0;34m\\u001b[0m\\u001b[0;34m\\u001b[0m\\u001b[0;34m\\u001b[0m\\u001b[0m\\n\",\"\\u001b[0;32m/content/drive/MyDrive/template/modules/utils.py\\u001b[0m in \\u001b[0;36mload_yaml\\u001b[0;34m(path)\\u001b[0m\\n\\u001b[1;32m     40\\u001b[0m \\u001b[0;32mdef\\u001b[0m \\u001b[0mload_yaml\\u001b[0m\\u001b[0;34m(\\u001b[0m\\u001b[0mpath\\u001b[0m\\u001b[0;34m)\\u001b[0m\\u001b[0;34m:\\u001b[0m\\u001b[0;34m\\u001b[0m\\u001b[0;34m\\u001b[0m\\u001b[0m\\n\\u001b[1;32m     41\\u001b[0m     \\u001b[0;32mwith\\u001b[0m \\u001b[0mopen\\u001b[0m\\u001b[0;34m(\\u001b[0m\\u001b[0mpath\\u001b[0m\\u001b[0;34m,\\u001b[0m \\u001b[0;34m'r'\\u001b[0m\\u001b[0;34m)\\u001b[0m \\u001b[0;32mas\\u001b[0m \\u001b[0mf\\u001b[0m\\u001b[0;34m:\\u001b[0m\\u001b[0;34m\\u001b[0m\\u001b[0;34m\\u001b[0m\\u001b[0m\\n\\u001b[0;32m---> 42\\u001b[0;31m         \\u001b[0;32mreturn\\u001b[0m \\u001b[0myaml\\u001b[0m\\u001b[0;34m.\\u001b[0m\\u001b[0mload\\u001b[0m\\u001b[0;34m(\\u001b[0m\\u001b[0mf\\u001b[0m\\u001b[0;34m,\\u001b[0m \\u001b[0mLoader\\u001b[0m\\u001b[0;34m=\\u001b[0m\\u001b[0myaml\\u001b[0m\\u001b[0;34m.\\u001b[0m\\u001b[0mFullLoader\\u001b[0m\\u001b[0;34m)\\u001b[0m\\u001b[0;34m\\u001b[0m\\u001b[0;34m\\u001b[0m\\u001b[0m\\n\\u001b[0m\\u001b[1;32m     43\\u001b[0m \\u001b[0;34m\\u001b[0m\\u001b[0m\\n\\u001b[1;32m     44\\u001b[0m '''\\n\",\"\\u001b[0;31mAttributeError\\u001b[0m: module 'yaml' has no attribute 'FullLoader'\"]}],\"source\":[\"from modules.utils import load_yaml, save_yaml, get_logger\\n\",\"\\n\",\"from modules.earlystoppers import EarlyStopper\\n\",\"from modules.recorders import Recorder\\n\",\"from modules.datasets import CowDataset\\n\",\"from modules.trainer import Trainer\\n\",\"\\n\",\"#from modules.preprocessor import get_preprocessor\\n\",\"from modules.optimizers import get_optimizer\\n\",\"from modules.metrics import get_metric\\n\",\"from modules.losses import get_loss\\n\",\"\\n\",\"from models.utils import get_model\\n\",\"\\n\",\"from torch.utils.data import DataLoader\\n\",\"import torch\\n\",\"\\n\",\"from datetime import datetime, timezone, timedelta\\n\",\"import numpy as np\\n\",\"import random\\n\",\"import os\\n\",\"import copy\\n\",\"\\n\",\"\\n\",\"# Root Directory\\n\",\"PROJECT_DIR = os.path.dirname(\\\"__file__\\\")\\n\",\"\\n\",\"# Load config\\n\",\"config_path = os.path.join(PROJECT_DIR, 'config', 'train_config.yaml')\\n\",\"config = load_yaml(config_path)\\n\",\"\\n\",\"# Train Serial\\n\",\"kst = timezone(timedelta(hours=9))\\n\",\"train_serial = datetime.now(tz=kst).strftime(\\\"%Y%m%d_%H%M%S\\\")\\n\",\"\\n\",\"# Recorder Directory\\n\",\"RECORDER_DIR = os.path.join(PROJECT_DIR, 'results', 'train', train_serial)\\n\",\"os.makedirs(RECORDER_DIR, exist_ok=True)\\n\",\"\\n\",\"# Data Directory\\n\",\"DATA_DIR = config['DIRECTORY']['dataset']\\n\",\"\\n\",\"# Seed\\n\",\"torch.manual_seed(config['TRAINER']['seed'])\\n\",\"torch.backends.cudnn.deterministic = True\\n\",\"torch.backends.cudnn.benchmark = False\\n\",\"np.random.seed(config['TRAINER']['seed'])\\n\",\"random.seed(config['TRAINER']['seed'])\\n\",\"\\n\",\"# GPU\\n\",\"os.environ['CUDA_VISIBLE_DEVICES'] = str(config['TRAINER']['gpu'])\\n\",\"device = torch.device('cuda' if torch.cuda.is_available() else 'cpu')\\n\",\"\\n\",\"\\n\",\"if __name__ == '__main__':\\n\",\"    '''\\n\",\"    Set Logger\\n\",\"    '''\\n\",\"    logger = get_logger(name='train', dir_=RECORDER_DIR, stream=False)\\n\",\"    logger.info(f\\\"Set Logger {RECORDER_DIR}\\\")\\n\",\"    \\n\",\"    '''\\n\",\"    Load Data\\n\",\"    '''\\n\",\"    # Dataset\\n\",\"    train_dataset = CowDataset(img_folder = os.path.join(DATA_DIR, 'train', 'images'),\\n\",\"                              dfpath = os.path.join(DATA_DIR, 'train', 'grade_labels.csv'))\\n\",\"    val_dataset = CowDataset(img_folder = os.path.join(DATA_DIR, 'val', 'images'),\\n\",\"                             dfpath = os.path.join(DATA_DIR, 'val', 'grade_labels.csv'))\\n\",\"    \\n\",\"    # DataLoader\\n\",\"    train_dataloader = DataLoader(dataset = train_dataset,\\n\",\"                                  batch_size = config['DATALOADER']['batch_size'],\\n\",\"                                  num_workers = config['DATALOADER']['num_workers'],\\n\",\"                                  shuffle = config['DATALOADER']['shuffle'],\\n\",\"                                  pin_memory = config['DATALOADER']['pin_memory'],\\n\",\"                                  drop_last = config['DATALOADER']['drop_last'])\\n\",\"    val_dataloader = DataLoader(dataset = val_dataset,\\n\",\"                                batch_size = config['DATALOADER']['batch_size'],\\n\",\"                                num_workers = config['DATALOADER']['num_workers'], \\n\",\"                                shuffle = False,\\n\",\"                                pin_memory = config['DATALOADER']['pin_memory'],\\n\",\"                                drop_last = config['DATALOADER']['drop_last'])\\n\",\"\\n\",\"    logger.info(f\\\"Load data, train:{len(train_dataset)} val:{len(val_dataset)}\\\")\\n\",\"    \\n\",\"    '''\\n\",\"    Set model\\n\",\"    '''\\n\",\"    # Load model\\n\",\"    model_name = config['TRAINER']['model']\\n\",\"    model_args = config['MODEL'][model_name]\\n\",\"    model = get_model(model_name = model_name, model_args = model_args).to(device)\\n\",\"    \\n\",\"    '''\\n\",\"    Set trainer\\n\",\"    '''\\n\",\"    # Optimizer\\n\",\"    optimizer = get_optimizer(optimizer_name=config['TRAINER']['optimizer'])\\n\",\"    optimizer = optimizer(params=model.parameters(),lr=config['TRAINER']['learning_rate'])\\n\",\"\\n\",\"    # Loss\\n\",\"    loss = get_loss(loss_name=config['TRAINER']['loss'])\\n\",\"    \\n\",\"    # Metric\\n\",\"    metrics = {metric_name: get_metric(metric_name) for metric_name in config['TRAINER']['metric']}\\n\",\"    \\n\",\"    # Early stoppper\\n\",\"    early_stopper = EarlyStopper(patience=config['TRAINER']['early_stopping_patience'],\\n\",\"                                mode=config['TRAINER']['early_stopping_mode'],\\n\",\"                                logger=logger)\\n\",\"\\n\",\"    # AMP\\n\",\"    if config['TRAINER']['amp'] == True:\\n\",\"        from apex import amp\\n\",\"        model, optimizer = amp.initialize(model, optimizer, opt_level='O1')\\n\",\"\\n\",\"    \\n\",\"    # Trainer\\n\",\"    trainer = Trainer(model=model,\\n\",\"                      optimizer=optimizer,\\n\",\"                      loss=loss,\\n\",\"                      metrics=metrics,\\n\",\"                      device=device,\\n\",\"                      logger=logger,\\n\",\"                      amp=amp if config['TRAINER']['amp'] else None,\\n\",\"                      interval=config['LOGGER']['logging_interval'])\\n\",\"    \\n\",\"    '''\\n\",\"    Logger\\n\",\"    '''\\n\",\"    # Recorder\\n\",\"    recorder = Recorder(record_dir=RECORDER_DIR,\\n\",\"                        model=model,\\n\",\"                        optimizer=optimizer,\\n\",\"                        scheduler=None,\\n\",\"                        amp=amp if config['TRAINER']['amp'] else None,\\n\",\"                        logger=logger)\\n\",\"\\n\",\"    # Save train config\\n\",\"    save_yaml(os.path.join(RECORDER_DIR, 'train_config.yml'), config)\\n\",\"\\n\",\"    '''\\n\",\"    TRAIN\\n\",\"    '''\\n\",\"    # Train\\n\",\"    n_epochs = config['TRAINER']['n_epochs']\\n\",\"    for epoch_index in range(n_epochs):\\n\",\"\\n\",\"        # Set Recorder row\\n\",\"        row_dict = dict()\\n\",\"        row_dict['epoch_index'] = epoch_index\\n\",\"        row_dict['train_serial'] = train_serial\\n\",\"        \\n\",\"        \\\"\\\"\\\"\\n\",\"        Train\\n\",\"        \\\"\\\"\\\"\\n\",\"        print(f\\\"Train {epoch_index}/{n_epochs}\\\")\\n\",\"        logger.info(f\\\"--Train {epoch_index}/{n_epochs}\\\")\\n\",\"        trainer.train(dataloader=train_dataloader, epoch_index=epoch_index, mode='train')\\n\",\"        \\n\",\"        row_dict['train_loss'] = trainer.loss_mean\\n\",\"        row_dict['train_elapsed_time'] = trainer.elapsed_time \\n\",\"        \\n\",\"        for metric_str, score in trainer.score_dict.items():\\n\",\"            row_dict[f\\\"train_{metric_str}\\\"] = score\\n\",\"        trainer.clear_history()\\n\",\"        \\n\",\"        \\\"\\\"\\\"\\n\",\"        Validation\\n\",\"        \\\"\\\"\\\"\\n\",\"        print(f\\\"Val {epoch_index}/{n_epochs}\\\")\\n\",\"        logger.info(f\\\"--Val {epoch_index}/{n_epochs}\\\")\\n\",\"        trainer.train(dataloader=val_dataloader, epoch_index=epoch_index, mode='val')\\n\",\"        \\n\",\"        row_dict['val_loss'] = trainer.loss_mean\\n\",\"        row_dict['val_elapsed_time'] = trainer.elapsed_time \\n\",\"        \\n\",\"        for metric_str, score in trainer.score_dict.items():\\n\",\"            row_dict[f\\\"val_{metric_str}\\\"] = score\\n\",\"        trainer.clear_history()\\n\",\"\\n\",\"        \\n\",\"        \\\"\\\"\\\"\\n\",\"        Record\\n\",\"        \\\"\\\"\\\"\\n\",\"        recorder.add_row(row_dict)\\n\",\"        recorder.save_plot(config['LOGGER']['plot'])\\n\",\"\\n\",\"        \\n\",\"        \\\"\\\"\\\"\\n\",\"        Early stopper\\n\",\"        \\\"\\\"\\\"\\n\",\"        early_stopping_target = config['TRAINER']['early_stopping_target']\\n\",\"        early_stopper.check_early_stopping(loss=row_dict[early_stopping_target])\\n\",\"\\n\",\"        if (early_stopper.patience_counter == 0) or (epoch_index == n_epochs-1):\\n\",\"            recorder.save_weight(epoch=epoch_index)\\n\",\"            best_row_dict = copy.deepcopy(row_dict)\\n\",\"        \\n\",\"        if early_stopper.stop == True:\\n\",\"            logger.info(f\\\"Eearly stopped, counter {early_stopper.patience_counter}/{config['TRAINER']['early_stopping_patience']}\\\")\\n\",\"            \\n\"]},{\"cell_type\":\"code\",\"source\":[\"\"],\"metadata\":{\"id\":\"ZNHDaSuCkWDy\"},\"execution_count\":null,\"outputs\":[]}]}\n",
            "NameError: name 'null' is not defined\n"
          ]
        }
      ]
    },
    {
      "cell_type": "code",
      "source": [
        "pip show Pyyaml"
      ],
      "metadata": {
        "colab": {
          "base_uri": "https://localhost:8080/"
        },
        "id": "Jm_4Y76LvvVW",
        "outputId": "756ef1c4-4379-4609-87fb-c0ad65e6e979"
      },
      "execution_count": null,
      "outputs": [
        {
          "output_type": "stream",
          "name": "stdout",
          "text": [
            "Name: PyYAML\n",
            "Version: 6.0\n",
            "Summary: YAML parser and emitter for Python\n",
            "Home-page: https://pyyaml.org/\n",
            "Author: Kirill Simonov\n",
            "Author-email: xi@resolvent.net\n",
            "License: MIT\n",
            "Location: /usr/local/lib/python3.9/site-packages\n",
            "Requires: \n",
            "Required-by: \n"
          ]
        }
      ]
    },
    {
      "cell_type": "code",
      "source": [
        "!python -V"
      ],
      "metadata": {
        "id": "Aa4MKiQ00u-x",
        "outputId": "d57ab5f6-3181-4472-ae1d-65a60d93311f",
        "colab": {
          "base_uri": "https://localhost:8080/"
        }
      },
      "execution_count": null,
      "outputs": [
        {
          "output_type": "stream",
          "name": "stdout",
          "text": [
            "Python 3.9.13\n"
          ]
        }
      ]
    },
    {
      "cell_type": "code",
      "source": [
        "import sys\n",
        "\n",
        "print(sys.executable)"
      ],
      "metadata": {
        "colab": {
          "base_uri": "https://localhost:8080/"
        },
        "id": "7Hn3KROZnIH-",
        "outputId": "c22d5bbb-b488-4f62-c25d-71355dad9d64"
      },
      "execution_count": null,
      "outputs": [
        {
          "output_type": "stream",
          "name": "stdout",
          "text": [
            "3.7.13 (default, Apr 24 2022, 01:04:09) \n",
            "[GCC 7.5.0]\n"
          ]
        }
      ]
    },
    {
      "cell_type": "code",
      "source": [
        "import sys\n",
        "\n",
        "print(sys.executable)"
      ],
      "metadata": {
        "colab": {
          "base_uri": "https://localhost:8080/"
        },
        "id": "aHEt9NYMsjP5",
        "outputId": "db61014a-0541-41ac-d980-11b7cfc4fd87"
      },
      "execution_count": null,
      "outputs": [
        {
          "output_type": "stream",
          "name": "stdout",
          "text": [
            "/usr/bin/python3\n"
          ]
        }
      ]
    },
    {
      "cell_type": "code",
      "execution_count": null,
      "metadata": {
        "colab": {
          "base_uri": "https://localhost:8080/",
          "height": 351
        },
        "id": "uAAj9heFybr8",
        "outputId": "657581fa-3f5e-4265-a48c-f0bdd3fbecaa",
        "collapsed": true
      },
      "outputs": [
        {
          "output_type": "error",
          "ename": "AttributeError",
          "evalue": "ignored",
          "traceback": [
            "\u001b[0;31m---------------------------------------------------------------------------\u001b[0m",
            "\u001b[0;31mAttributeError\u001b[0m                            Traceback (most recent call last)",
            "\u001b[0;32m<ipython-input-5-e2a52f40b134>\u001b[0m in \u001b[0;36m<module>\u001b[0;34m()\u001b[0m\n\u001b[1;32m     28\u001b[0m \u001b[0;31m# Load config\u001b[0m\u001b[0;34m\u001b[0m\u001b[0;34m\u001b[0m\u001b[0;34m\u001b[0m\u001b[0m\n\u001b[1;32m     29\u001b[0m \u001b[0mconfig_path\u001b[0m \u001b[0;34m=\u001b[0m \u001b[0mos\u001b[0m\u001b[0;34m.\u001b[0m\u001b[0mpath\u001b[0m\u001b[0;34m.\u001b[0m\u001b[0mjoin\u001b[0m\u001b[0;34m(\u001b[0m\u001b[0mPROJECT_DIR\u001b[0m\u001b[0;34m,\u001b[0m \u001b[0;34m'config'\u001b[0m\u001b[0;34m,\u001b[0m \u001b[0;34m'train_config.yaml'\u001b[0m\u001b[0;34m)\u001b[0m\u001b[0;34m\u001b[0m\u001b[0;34m\u001b[0m\u001b[0m\n\u001b[0;32m---> 30\u001b[0;31m \u001b[0mconfig\u001b[0m \u001b[0;34m=\u001b[0m \u001b[0mload_yaml\u001b[0m\u001b[0;34m(\u001b[0m\u001b[0mconfig_path\u001b[0m\u001b[0;34m)\u001b[0m\u001b[0;34m\u001b[0m\u001b[0;34m\u001b[0m\u001b[0m\n\u001b[0m\u001b[1;32m     31\u001b[0m \u001b[0;34m\u001b[0m\u001b[0m\n\u001b[1;32m     32\u001b[0m \u001b[0;31m# Train Serial\u001b[0m\u001b[0;34m\u001b[0m\u001b[0;34m\u001b[0m\u001b[0;34m\u001b[0m\u001b[0m\n",
            "\u001b[0;32m/content/drive/MyDrive/template/modules/utils.py\u001b[0m in \u001b[0;36mload_yaml\u001b[0;34m(path)\u001b[0m\n\u001b[1;32m     40\u001b[0m \u001b[0;32mdef\u001b[0m \u001b[0mload_yaml\u001b[0m\u001b[0;34m(\u001b[0m\u001b[0mpath\u001b[0m\u001b[0;34m)\u001b[0m\u001b[0;34m:\u001b[0m\u001b[0;34m\u001b[0m\u001b[0;34m\u001b[0m\u001b[0m\n\u001b[1;32m     41\u001b[0m     \u001b[0;32mwith\u001b[0m \u001b[0mopen\u001b[0m\u001b[0;34m(\u001b[0m\u001b[0mpath\u001b[0m\u001b[0;34m,\u001b[0m \u001b[0;34m'r'\u001b[0m\u001b[0;34m)\u001b[0m \u001b[0;32mas\u001b[0m \u001b[0mf\u001b[0m\u001b[0;34m:\u001b[0m\u001b[0;34m\u001b[0m\u001b[0;34m\u001b[0m\u001b[0m\n\u001b[0;32m---> 42\u001b[0;31m         \u001b[0;32mreturn\u001b[0m \u001b[0myaml\u001b[0m\u001b[0;34m.\u001b[0m\u001b[0mload\u001b[0m\u001b[0;34m(\u001b[0m\u001b[0mf\u001b[0m\u001b[0;34m,\u001b[0m \u001b[0mLoader\u001b[0m\u001b[0;34m=\u001b[0m\u001b[0myaml\u001b[0m\u001b[0;34m.\u001b[0m\u001b[0mFullLoader\u001b[0m\u001b[0;34m)\u001b[0m\u001b[0;34m\u001b[0m\u001b[0;34m\u001b[0m\u001b[0m\n\u001b[0m\u001b[1;32m     43\u001b[0m \u001b[0;34m\u001b[0m\u001b[0m\n\u001b[1;32m     44\u001b[0m '''\n",
            "\u001b[0;31mAttributeError\u001b[0m: module 'yaml' has no attribute 'FullLoader'"
          ]
        }
      ],
      "source": [
        "from modules.utils import load_yaml, save_yaml, get_logger\n",
        "\n",
        "from modules.earlystoppers import EarlyStopper\n",
        "from modules.recorders import Recorder\n",
        "from modules.datasets import CowDataset\n",
        "from modules.trainer import Trainer\n",
        "\n",
        "#from modules.preprocessor import get_preprocessor\n",
        "from modules.optimizers import get_optimizer\n",
        "from modules.metrics import get_metric\n",
        "from modules.losses import get_loss\n",
        "\n",
        "from models.utils import get_model\n",
        "\n",
        "from torch.utils.data import DataLoader\n",
        "import torch\n",
        "\n",
        "from datetime import datetime, timezone, timedelta\n",
        "import numpy as np\n",
        "import random\n",
        "import os\n",
        "import copy\n",
        "\n",
        "\n",
        "# Root Directory\n",
        "PROJECT_DIR = os.path.dirname(\"__file__\")\n",
        "\n",
        "# Load config\n",
        "config_path = os.path.join(PROJECT_DIR, 'config', 'train_config.yaml')\n",
        "config = load_yaml(config_path)\n",
        "\n",
        "# Train Serial\n",
        "kst = timezone(timedelta(hours=9))\n",
        "train_serial = datetime.now(tz=kst).strftime(\"%Y%m%d_%H%M%S\")\n",
        "\n",
        "# Recorder Directory\n",
        "RECORDER_DIR = os.path.join(PROJECT_DIR, 'results', 'train', train_serial)\n",
        "os.makedirs(RECORDER_DIR, exist_ok=True)\n",
        "\n",
        "# Data Directory\n",
        "DATA_DIR = config['DIRECTORY']['dataset']\n",
        "\n",
        "# Seed\n",
        "torch.manual_seed(config['TRAINER']['seed'])\n",
        "torch.backends.cudnn.deterministic = True\n",
        "torch.backends.cudnn.benchmark = False\n",
        "np.random.seed(config['TRAINER']['seed'])\n",
        "random.seed(config['TRAINER']['seed'])\n",
        "\n",
        "# GPU\n",
        "os.environ['CUDA_VISIBLE_DEVICES'] = str(config['TRAINER']['gpu'])\n",
        "device = torch.device('cuda' if torch.cuda.is_available() else 'cpu')\n",
        "\n",
        "\n",
        "if __name__ == '__main__':\n",
        "    '''\n",
        "    Set Logger\n",
        "    '''\n",
        "    logger = get_logger(name='train', dir_=RECORDER_DIR, stream=False)\n",
        "    logger.info(f\"Set Logger {RECORDER_DIR}\")\n",
        "    \n",
        "    '''\n",
        "    Load Data\n",
        "    '''\n",
        "    # Dataset\n",
        "    train_dataset = CowDataset(img_folder = os.path.join(DATA_DIR, 'train', 'images'),\n",
        "                              dfpath = os.path.join(DATA_DIR, 'train', 'grade_labels.csv'))\n",
        "    val_dataset = CowDataset(img_folder = os.path.join(DATA_DIR, 'val', 'images'),\n",
        "                             dfpath = os.path.join(DATA_DIR, 'val', 'grade_labels.csv'))\n",
        "    \n",
        "    # DataLoader\n",
        "    train_dataloader = DataLoader(dataset = train_dataset,\n",
        "                                  batch_size = config['DATALOADER']['batch_size'],\n",
        "                                  num_workers = config['DATALOADER']['num_workers'],\n",
        "                                  shuffle = config['DATALOADER']['shuffle'],\n",
        "                                  pin_memory = config['DATALOADER']['pin_memory'],\n",
        "                                  drop_last = config['DATALOADER']['drop_last'])\n",
        "    val_dataloader = DataLoader(dataset = val_dataset,\n",
        "                                batch_size = config['DATALOADER']['batch_size'],\n",
        "                                num_workers = config['DATALOADER']['num_workers'], \n",
        "                                shuffle = False,\n",
        "                                pin_memory = config['DATALOADER']['pin_memory'],\n",
        "                                drop_last = config['DATALOADER']['drop_last'])\n",
        "\n",
        "    logger.info(f\"Load data, train:{len(train_dataset)} val:{len(val_dataset)}\")\n",
        "    \n",
        "    '''\n",
        "    Set model\n",
        "    '''\n",
        "    # Load model\n",
        "    model_name = config['TRAINER']['model']\n",
        "    model_args = config['MODEL'][model_name]\n",
        "    model = get_model(model_name = model_name, model_args = model_args).to(device)\n",
        "    \n",
        "    '''\n",
        "    Set trainer\n",
        "    '''\n",
        "    # Optimizer\n",
        "    optimizer = get_optimizer(optimizer_name=config['TRAINER']['optimizer'])\n",
        "    optimizer = optimizer(params=model.parameters(),lr=config['TRAINER']['learning_rate'])\n",
        "\n",
        "    # Loss\n",
        "    loss = get_loss(loss_name=config['TRAINER']['loss'])\n",
        "    \n",
        "    # Metric\n",
        "    metrics = {metric_name: get_metric(metric_name) for metric_name in config['TRAINER']['metric']}\n",
        "    \n",
        "    # Early stoppper\n",
        "    early_stopper = EarlyStopper(patience=config['TRAINER']['early_stopping_patience'],\n",
        "                                mode=config['TRAINER']['early_stopping_mode'],\n",
        "                                logger=logger)\n",
        "\n",
        "    # AMP\n",
        "    if config['TRAINER']['amp'] == True:\n",
        "        from apex import amp\n",
        "        model, optimizer = amp.initialize(model, optimizer, opt_level='O1')\n",
        "\n",
        "    \n",
        "    # Trainer\n",
        "    trainer = Trainer(model=model,\n",
        "                      optimizer=optimizer,\n",
        "                      loss=loss,\n",
        "                      metrics=metrics,\n",
        "                      device=device,\n",
        "                      logger=logger,\n",
        "                      amp=amp if config['TRAINER']['amp'] else None,\n",
        "                      interval=config['LOGGER']['logging_interval'])\n",
        "    \n",
        "    '''\n",
        "    Logger\n",
        "    '''\n",
        "    # Recorder\n",
        "    recorder = Recorder(record_dir=RECORDER_DIR,\n",
        "                        model=model,\n",
        "                        optimizer=optimizer,\n",
        "                        scheduler=None,\n",
        "                        amp=amp if config['TRAINER']['amp'] else None,\n",
        "                        logger=logger)\n",
        "\n",
        "    # Save train config\n",
        "    save_yaml(os.path.join(RECORDER_DIR, 'train_config.yml'), config)\n",
        "\n",
        "    '''\n",
        "    TRAIN\n",
        "    '''\n",
        "    # Train\n",
        "    n_epochs = config['TRAINER']['n_epochs']\n",
        "    for epoch_index in range(n_epochs):\n",
        "\n",
        "        # Set Recorder row\n",
        "        row_dict = dict()\n",
        "        row_dict['epoch_index'] = epoch_index\n",
        "        row_dict['train_serial'] = train_serial\n",
        "        \n",
        "        \"\"\"\n",
        "        Train\n",
        "        \"\"\"\n",
        "        print(f\"Train {epoch_index}/{n_epochs}\")\n",
        "        logger.info(f\"--Train {epoch_index}/{n_epochs}\")\n",
        "        trainer.train(dataloader=train_dataloader, epoch_index=epoch_index, mode='train')\n",
        "        \n",
        "        row_dict['train_loss'] = trainer.loss_mean\n",
        "        row_dict['train_elapsed_time'] = trainer.elapsed_time \n",
        "        \n",
        "        for metric_str, score in trainer.score_dict.items():\n",
        "            row_dict[f\"train_{metric_str}\"] = score\n",
        "        trainer.clear_history()\n",
        "        \n",
        "        \"\"\"\n",
        "        Validation\n",
        "        \"\"\"\n",
        "        print(f\"Val {epoch_index}/{n_epochs}\")\n",
        "        logger.info(f\"--Val {epoch_index}/{n_epochs}\")\n",
        "        trainer.train(dataloader=val_dataloader, epoch_index=epoch_index, mode='val')\n",
        "        \n",
        "        row_dict['val_loss'] = trainer.loss_mean\n",
        "        row_dict['val_elapsed_time'] = trainer.elapsed_time \n",
        "        \n",
        "        for metric_str, score in trainer.score_dict.items():\n",
        "            row_dict[f\"val_{metric_str}\"] = score\n",
        "        trainer.clear_history()\n",
        "\n",
        "        \n",
        "        \"\"\"\n",
        "        Record\n",
        "        \"\"\"\n",
        "        recorder.add_row(row_dict)\n",
        "        recorder.save_plot(config['LOGGER']['plot'])\n",
        "\n",
        "        \n",
        "        \"\"\"\n",
        "        Early stopper\n",
        "        \"\"\"\n",
        "        early_stopping_target = config['TRAINER']['early_stopping_target']\n",
        "        early_stopper.check_early_stopping(loss=row_dict[early_stopping_target])\n",
        "\n",
        "        if (early_stopper.patience_counter == 0) or (epoch_index == n_epochs-1):\n",
        "            recorder.save_weight(epoch=epoch_index)\n",
        "            best_row_dict = copy.deepcopy(row_dict)\n",
        "        \n",
        "        if early_stopper.stop == True:\n",
        "            logger.info(f\"Eearly stopped, counter {early_stopper.patience_counter}/{config['TRAINER']['early_stopping_patience']}\")\n",
        "            \n"
      ]
    },
    {
      "cell_type": "code",
      "source": [
        ""
      ],
      "metadata": {
        "id": "ZNHDaSuCkWDy"
      },
      "execution_count": null,
      "outputs": []
    }
  ]
}